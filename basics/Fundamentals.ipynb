{
 "cells": [
  {
   "cell_type": "code",
   "execution_count": null,
   "metadata": {},
   "outputs": [],
   "source": []
  },
  {
   "cell_type": "code",
   "execution_count": 132,
   "metadata": {},
   "outputs": [],
   "source": [
    "import torch\n",
    "from torch import nn\n",
    "from sklearn.model_selection import train_test_split\n",
    "import matplotlib.pyplot as plt\n",
    "import pickle\n",
    "import os"
   ]
  },
  {
   "cell_type": "code",
   "execution_count": 4,
   "metadata": {},
   "outputs": [
    {
     "data": {
      "text/plain": [
       "'2.0.1'"
      ]
     },
     "execution_count": 4,
     "metadata": {},
     "output_type": "execute_result"
    }
   ],
   "source": [
    "# Set model target device (mps for GPU on apple devices)\n",
    "device = torch.device('mps')"
   ]
  },
  {
   "attachments": {},
   "cell_type": "markdown",
   "metadata": {},
   "source": [
    "# Create data"
   ]
  },
  {
   "cell_type": "code",
   "execution_count": 105,
   "metadata": {},
   "outputs": [
    {
     "data": {
      "text/plain": [
       "(50, 50)"
      ]
     },
     "execution_count": 105,
     "metadata": {},
     "output_type": "execute_result"
    }
   ],
   "source": [
    "weights = 0.7\n",
    "bias = 0.3\n",
    "\n",
    "# Make up vars \n",
    "start = 0\n",
    "end = 1\n",
    "step = 0.02\n",
    "# unsqueeze(dim=1): Returns a new tensor with a dimension of size one inserted at the specified position\n",
    "X = torch.arange(start, end, step, device='mps').unsqueeze(dim=1)\n",
    "y = weights * X + bias\n",
    "\n",
    "len(X), len(y)"
   ]
  },
  {
   "cell_type": "code",
   "execution_count": 106,
   "metadata": {},
   "outputs": [],
   "source": [
    "X_train, X_test, y_train, y_test = train_test_split(X, y, test_size=0.2)"
   ]
  },
  {
   "cell_type": "code",
   "execution_count": 112,
   "metadata": {},
   "outputs": [],
   "source": [
    "def plot_predictions(\n",
    "        train_data=X_train.to(torch.device('cpu')),\n",
    "        train_labels=y_train.to(torch.device('cpu')),\n",
    "        test_data=X_test.to(torch.device('cpu')),\n",
    "        test_labels=y_test.to(torch.device('cpu')),\n",
    "        predictions=None):\n",
    "    \"\"\"\n",
    "    Plot and compare predictions\n",
    "    \"\"\"\n",
    "    plt.figure(figsize=(10,7))\n",
    "\n",
    "    # Plot scatters: Train data\n",
    "    plt.scatter(train_data, train_labels, c='b', s=4, label='Training data')\n",
    "    # Plot scatters: Test data\n",
    "    plt.scatter(test_data, test_labels, c='g', s=4, label='Test data')\n",
    "    # Plot scatters: Predictions\n",
    "    if predictions is not None:\n",
    "        plt.scatter(test_data, predictions, c='r', s=4, label='Predictions')\n",
    "    \n",
    "    # Show legend\n",
    "    plt.legend(prop={'size':14});"
   ]
  },
  {
   "cell_type": "code",
   "execution_count": 113,
   "metadata": {},
   "outputs": [
    {
     "data": {
      "image/png": "[encoded data removed]",
      "text/plain": [
       "<Figure size 1000x700 with 1 Axes>"
      ]
     },
     "metadata": {},
     "output_type": "display_data"
    }
   ],
   "source": [
    "plot_predictions()"
   ]
  },
  {
   "attachments": {},
   "cell_type": "markdown",
   "metadata": {},
   "source": [
    "# Setup model config"
   ]
  },
  {
   "attachments": {},
   "cell_type": "markdown",
   "metadata": {},
   "source": [
    "> torch.rand(): Returns a tensor filled with random numbers from a uniform distribution on the interval [0,1)   \n",
    "> torch.rand().requires_grad : If autograd should record operations on the returned tensor"
   ]
  },
  {
   "cell_type": "code",
   "execution_count": 47,
   "metadata": {},
   "outputs": [],
   "source": [
    "# Create a class for a linear model (Large version)\n",
    "class LinearRegressionModel(nn.Module): # All pytorch models inherit from nn.Module\n",
    "    # Constructor to Inicialize parameters\n",
    "    def __init__(self): \n",
    "        # Initialize parent class parameters\n",
    "        super().__init__()\n",
    "        # Initialize model parameters\n",
    "        self.weights = nn.Parameter(torch.rand(1, requires_grad=True, dtype=torch.float))\n",
    "        self.bias = nn.Parameter(torch.rand(1, requires_grad=True, dtype=torch.float))\n",
    "\n",
    "    # forward() method to compute the model\n",
    "    def forward(self, x: torch.Tensor) -> torch.Tensor:\n",
    "        return self.weights * x + self.bias  # Lineal regression function"
   ]
  },
  {
   "cell_type": "code",
   "execution_count": 100,
   "metadata": {},
   "outputs": [],
   "source": [
    "# Create a class for a linear model (Pytorch version)\n",
    "class LinearRegressionModel(nn.Module): # All pytorch models inherit from nn.Module\n",
    "    # Constructor to Inicialize parameters\n",
    "    def __init__(self):\n",
    "        # Initialize parent class parameters\n",
    "        super().__init__()\n",
    "        # Initialize model parameters: https://pytorch.org/docs/stable/generated/torch.nn.Linear.html\n",
    "        self.linear_layer = nn.Linear(in_features=1, out_features=1)\n",
    "\n",
    "    # forward() method to compute the model\n",
    "    def forward(self, x: torch.Tensor) -> torch.Tensor:\n",
    "        return self.linear_layer(x)  # Lineal regression function"
   ]
  },
  {
   "cell_type": "code",
   "execution_count": 101,
   "metadata": {},
   "outputs": [
    {
     "data": {
      "text/plain": [
       "(LinearRegressionModel(\n",
       "   (linear_layer): Linear(in_features=1, out_features=1, bias=True)\n",
       " ),\n",
       " OrderedDict([('linear_layer.weight', tensor([[0.7645]])),\n",
       "              ('linear_layer.bias', tensor([0.8300]))]))"
      ]
     },
     "execution_count": 101,
     "metadata": {},
     "output_type": "execute_result"
    }
   ],
   "source": [
    "# Set seed for reproducibility\n",
    "torch.manual_seed(42) \n",
    "# Instanciate and Initialize model class\n",
    "model1 = LinearRegressionModel()\n",
    "model1, model1.state_dict()"
   ]
  },
  {
   "cell_type": "code",
   "execution_count": 102,
   "metadata": {},
   "outputs": [
    {
     "data": {
      "text/plain": [
       "device(type='mps', index=0)"
      ]
     },
     "execution_count": 102,
     "metadata": {},
     "output_type": "execute_result"
    }
   ],
   "source": [
    "model1.to(device)\n",
    "next(model1.parameters()).device"
   ]
  },
  {
   "attachments": {},
   "cell_type": "markdown",
   "metadata": {},
   "source": [
    "# Training model\n",
    "\n",
    "For training we need:\n",
    "* Loss function\n",
    "* Optimizer\n",
    "* Training loop\n",
    "* Testing loop"
   ]
  },
  {
   "cell_type": "code",
   "execution_count": 103,
   "metadata": {},
   "outputs": [],
   "source": [
    "# Setup Loss function: \n",
    "# nn.L1Loss(): Creates a criterion that measures the mean absolute error (MAE) between each element in the input x and target y\n",
    "loss_fn = nn.L1Loss()\n",
    "\n",
    "# Setup optimizer\n",
    "# torch.optim.SGD(): Implements stochastic gradient descent\n",
    "optimizer = torch.optim.SGD(params=model1.parameters(), lr=0.01, )"
   ]
  },
  {
   "cell_type": "code",
   "execution_count": 110,
   "metadata": {},
   "outputs": [
    {
     "name": "stderr",
     "output_type": "stream",
     "text": [
      "/Users/andresg/Documents/PyTorch-Walkthrough/venv/lib/python3.9/site-packages/torch/autograd/__init__.py:200: UserWarning: The operator 'aten::sgn.out' is not currently supported on the MPS backend and will fall back to run on the CPU. This may have performance implications. (Triggered internally at /Users/runner/work/pytorch/pytorch/pytorch/aten/src/ATen/mps/MPSFallback.mm:11.)\n",
      "  Variable._execution_engine.run_backward(  # Calls into the C++ engine to run the backward pass\n"
     ]
    },
    {
     "name": "stdout",
     "output_type": "stream",
     "text": [
      "Epoch: 0 | Loss: 0.5595665574073792 | Test loss: 0.5570623278617859\n",
      "Epoch: 10 | Loss: 0.4385901391506195 | Test loss: 0.4287578761577606\n",
      "Epoch: 20 | Loss: 0.31761375069618225 | Test loss: 0.30045342445373535\n",
      "Epoch: 30 | Loss: 0.196637362241745 | Test loss: 0.17214898765087128\n",
      "Epoch: 40 | Loss: 0.07566095888614655 | Test loss: 0.043844547122716904\n",
      "Epoch: 50 | Loss: 0.034644510596990585 | Test loss: 0.026423484086990356\n",
      "Epoch: 60 | Loss: 0.028627431020140648 | Test loss: 0.025040650740265846\n",
      "Epoch: 70 | Loss: 0.0233838502317667 | Test loss: 0.020264996215701103\n",
      "Epoch: 80 | Loss: 0.018141767010092735 | Test loss: 0.015795880928635597\n",
      "Epoch: 90 | Loss: 0.012898189015686512 | Test loss: 0.011020240373909473\n",
      "Epoch: 100 | Loss: 0.007656102068722248 | Test loss: 0.006551099009811878\n",
      "Epoch: 110 | Loss: 0.002556838095188141 | Test loss: 0.0031962753273546696\n",
      "Epoch: 120 | Loss: 0.003946700133383274 | Test loss: 0.009604135528206825\n",
      "Epoch: 130 | Loss: 0.003946700133383274 | Test loss: 0.009604135528206825\n",
      "Epoch: 140 | Loss: 0.003946700133383274 | Test loss: 0.009604135528206825\n",
      "Epoch: 150 | Loss: 0.003946700133383274 | Test loss: 0.009604135528206825\n",
      "Epoch: 160 | Loss: 0.003946700133383274 | Test loss: 0.009604135528206825\n",
      "Epoch: 170 | Loss: 0.003946700133383274 | Test loss: 0.009604135528206825\n",
      "Epoch: 180 | Loss: 0.003946700133383274 | Test loss: 0.009604135528206825\n",
      "Epoch: 190 | Loss: 0.003946700133383274 | Test loss: 0.009604135528206825\n"
     ]
    }
   ],
   "source": [
    "# Training loop\n",
    "torch.manual_seed(42) \n",
    "\n",
    "epochs = 200\n",
    "\n",
    "for epoch in range(epochs):\n",
    "\n",
    "    # ==================================================================TRAINING==================================================================\n",
    "\n",
    "    # model1.train() (Bool): Set the object in training mode: \n",
    "    # This has any effect only on certain modules. See documentations of particular modules for details of their behaviors in training/evaluation mode,\n",
    "    # if they are affected, e.g. Dropout, BatchNorm, etc.\n",
    "    model1.train()\n",
    "\n",
    "    # 1. Forward pass: Apply linear regression formula\n",
    "    y_pred = model1(X_train)\n",
    "\n",
    "    # 2. Calculate the loss: MAE over predictions and labels\n",
    "    loss = loss_fn(y_pred, y_train)\n",
    "\n",
    "    # 3. Optimizer zero grad: Sets the gradients of all optimized torch.Tensor s to zero.\n",
    "    optimizer.zero_grad()\n",
    "\n",
    "    # 4. Backwards pass: Performs backwards propagation\n",
    "    loss.backward()\n",
    "\n",
    "    # 5. Optimizer step: Update optimizer values\n",
    "    optimizer.step()\n",
    "\n",
    "    # ==================================================================TESTING==================================================================\n",
    "\n",
    "    # model1.eval() (Bool): Set the object in evaluation mode:\n",
    "    # This has any effect only on certain modules. See documentations of particular modules for details of their behaviors in training/evaluation mode,\n",
    "    # if they are affected, e.g. Dropout, BatchNorm, etc.\n",
    "    model1.eval()\n",
    "\n",
    "    with torch.inference_mode():\n",
    "        test_pred = model1(X_test)\n",
    "        test_loss = loss_fn(test_pred, y_test)\n",
    "\n",
    "    # Print out what's happening\n",
    "    if epoch % 10 == 0:\n",
    "        print(f'Epoch: {epoch} | Loss: {loss} | Test loss: {test_loss}')"
   ]
  },
  {
   "cell_type": "code",
   "execution_count": 114,
   "metadata": {},
   "outputs": [
    {
     "data": {
      "text/plain": [
       "OrderedDict([('linear_layer.weight', tensor([[0.6955]], device='mps:0')),\n",
       "             ('linear_layer.bias', tensor([0.3060], device='mps:0'))])"
      ]
     },
     "execution_count": 114,
     "metadata": {},
     "output_type": "execute_result"
    }
   ],
   "source": [
    "model1.state_dict()"
   ]
  },
  {
   "attachments": {},
   "cell_type": "markdown",
   "metadata": {},
   "source": [
    "# Make evaluations and predictions"
   ]
  },
  {
   "cell_type": "code",
   "execution_count": 128,
   "metadata": {},
   "outputs": [
    {
     "data": {
      "image/png": "[encoded data removed]",
      "text/plain": [
       "<Figure size 1000x700 with 1 Axes>"
      ]
     },
     "metadata": {},
     "output_type": "display_data"
    }
   ],
   "source": [
    "# Turn model into evaluation mode\n",
    "model1.eval()\n",
    "\n",
    "# Evaluations\n",
    "with torch.inference_mode():\n",
    "    y_pred = model1(X_test).cpu() # Convert to cpu to plot in Numpy arrays\n",
    "\n",
    "# Plot predictions\n",
    "plot_predictions(predictions = y_pred)"
   ]
  },
  {
   "attachments": {},
   "cell_type": "markdown",
   "metadata": {},
   "source": [
    "# Saving the trained model"
   ]
  },
  {
   "cell_type": "code",
   "execution_count": 159,
   "metadata": {},
   "outputs": [],
   "source": [
    "# Set folder and model name\n",
    "folder_name = 'models'\n",
    "model_name = 'LinearRegressionModel.pth'\n",
    "\n",
    "# .pth: typically contains a serialized PyTorch state dictionary that contains the state of a PyTorch model, including the model's weights, biases, \n",
    "# and other parameters.\n",
    "\n",
    "# Create folder if does not exist\n",
    "if not os.path.exists(folder_name):\n",
    "    os.mkdir(folder_name)\n",
    "\n",
    "# Define path and save model state parameters\n",
    "model_path = os.path.join(folder_name, model_name)\n",
    "torch.save(obj=model1.state_dict(), f=model_path)"
   ]
  },
  {
   "attachments": {},
   "cell_type": "markdown",
   "metadata": {},
   "source": [
    "# Loading the trained model"
   ]
  },
  {
   "cell_type": "code",
   "execution_count": 161,
   "metadata": {},
   "outputs": [
    {
     "data": {
      "text/plain": [
       "LinearRegressionModel(\n",
       "  (linear_layer): Linear(in_features=1, out_features=1, bias=True)\n",
       ")"
      ]
     },
     "execution_count": 161,
     "metadata": {},
     "output_type": "execute_result"
    }
   ],
   "source": [
    "# Load the pytorch model\n",
    "\n",
    "# Create a new instance of the model\n",
    "load_model1 = LinearRegressionModel()\n",
    "\n",
    "# Load model state\n",
    "state_dict = torch.load(model_path)\n",
    "\n",
    "# Update model parameters\n",
    "load_model1.load_state_dict(state_dict)\n",
    "\n",
    "# Put the loaded model to device (mps)\n",
    "load_model1.to(device)"
   ]
  },
  {
   "cell_type": "code",
   "execution_count": 164,
   "metadata": {},
   "outputs": [
    {
     "data": {
      "text/plain": [
       "device(type='mps', index=0)"
      ]
     },
     "execution_count": 164,
     "metadata": {},
     "output_type": "execute_result"
    }
   ],
   "source": [
    "next(load_model1.parameters()).device"
   ]
  },
  {
   "cell_type": "code",
   "execution_count": null,
   "metadata": {},
   "outputs": [],
   "source": []
  }
 ],
 "metadata": {
  "kernelspec": {
   "display_name": "venv",
   "language": "python",
   "name": "python3"
  },
  "language_info": {
   "codemirror_mode": {
    "name": "ipython",
    "version": 3
   },
   "file_extension": ".py",
   "mimetype": "text/x-python",
   "name": "python",
   "nbconvert_exporter": "python",
   "pygments_lexer": "ipython3",
   "version": "3.9.6"
  },
  "orig_nbformat": 4
 },
 "nbformat": 4,
 "nbformat_minor": 2
}
